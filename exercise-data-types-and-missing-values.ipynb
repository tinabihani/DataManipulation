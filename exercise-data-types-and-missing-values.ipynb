{
 "cells": [
  {
   "cell_type": "markdown",
   "id": "64626a83",
   "metadata": {
    "papermill": {
     "duration": 0.010275,
     "end_time": "2022-01-16T15:05:16.937422",
     "exception": false,
     "start_time": "2022-01-16T15:05:16.927147",
     "status": "completed"
    },
    "tags": []
   },
   "source": [
    "**This notebook is an exercise in the [Pandas](https://www.kaggle.com/learn/pandas) course.  You can reference the tutorial at [this link](https://www.kaggle.com/residentmario/data-types-and-missing-values).**\n",
    "\n",
    "---\n"
   ]
  },
  {
   "cell_type": "markdown",
   "id": "c64c7134",
   "metadata": {
    "papermill": {
     "duration": 0.008742,
     "end_time": "2022-01-16T15:05:16.955616",
     "exception": false,
     "start_time": "2022-01-16T15:05:16.946874",
     "status": "completed"
    },
    "tags": []
   },
   "source": [
    "# Introduction\n",
    "\n",
    "Run the following cell to load your data and some utility functions."
   ]
  },
  {
   "cell_type": "code",
   "execution_count": 1,
   "id": "2b2599ea",
   "metadata": {
    "execution": {
     "iopub.execute_input": "2022-01-16T15:05:16.980856Z",
     "iopub.status.busy": "2022-01-16T15:05:16.978875Z",
     "iopub.status.idle": "2022-01-16T15:05:21.801469Z",
     "shell.execute_reply": "2022-01-16T15:05:21.800757Z",
     "shell.execute_reply.started": "2022-01-16T14:48:39.871981Z"
    },
    "papermill": {
     "duration": 4.836934,
     "end_time": "2022-01-16T15:05:21.801661",
     "exception": false,
     "start_time": "2022-01-16T15:05:16.964727",
     "status": "completed"
    },
    "tags": []
   },
   "outputs": [
    {
     "name": "stdout",
     "output_type": "stream",
     "text": [
      "Setup complete.\n"
     ]
    }
   ],
   "source": [
    "import pandas as pd\n",
    "\n",
    "reviews = pd.read_csv(\"../input/wine-reviews/winemag-data-130k-v2.csv\", index_col=0)\n",
    "\n",
    "from learntools.core import binder; binder.bind(globals())\n",
    "from learntools.pandas.data_types_and_missing_data import *\n",
    "print(\"Setup complete.\")"
   ]
  },
  {
   "cell_type": "markdown",
   "id": "b8ff72bf",
   "metadata": {
    "papermill": {
     "duration": 0.009747,
     "end_time": "2022-01-16T15:05:21.821490",
     "exception": false,
     "start_time": "2022-01-16T15:05:21.811743",
     "status": "completed"
    },
    "tags": []
   },
   "source": [
    "# Exercises"
   ]
  },
  {
   "cell_type": "markdown",
   "id": "bd791624",
   "metadata": {
    "papermill": {
     "duration": 0.009191,
     "end_time": "2022-01-16T15:05:21.840483",
     "exception": false,
     "start_time": "2022-01-16T15:05:21.831292",
     "status": "completed"
    },
    "tags": []
   },
   "source": [
    "## 1. \n",
    "What is the data type of the `points` column in the dataset?"
   ]
  },
  {
   "cell_type": "code",
   "execution_count": 2,
   "id": "fec24af2",
   "metadata": {
    "execution": {
     "iopub.execute_input": "2022-01-16T15:05:21.864453Z",
     "iopub.status.busy": "2022-01-16T15:05:21.863487Z",
     "iopub.status.idle": "2022-01-16T15:05:21.873964Z",
     "shell.execute_reply": "2022-01-16T15:05:21.874518Z",
     "shell.execute_reply.started": "2022-01-16T14:48:43.131941Z"
    },
    "papermill": {
     "duration": 0.024633,
     "end_time": "2022-01-16T15:05:21.874706",
     "exception": false,
     "start_time": "2022-01-16T15:05:21.850073",
     "status": "completed"
    },
    "tags": []
   },
   "outputs": [
    {
     "data": {
      "application/javascript": [
       "parent.postMessage({\"jupyterEvent\": \"custom.exercise_interaction\", \"data\": {\"outcomeType\": 1, \"valueTowardsCompletion\": 0.25, \"interactionType\": 1, \"questionType\": 1, \"questionId\": \"1_PointsDtype\", \"learnToolsVersion\": \"0.3.4\", \"failureMessage\": \"\", \"exceptionClass\": \"\", \"trace\": \"\"}}, \"*\")"
      ],
      "text/plain": [
       "<IPython.core.display.Javascript object>"
      ]
     },
     "metadata": {},
     "output_type": "display_data"
    },
    {
     "data": {
      "text/markdown": [
       "<span style=\"color:#33cc33\">Correct</span>"
      ],
      "text/plain": [
       "Correct"
      ]
     },
     "metadata": {},
     "output_type": "display_data"
    }
   ],
   "source": [
    "# Your code here\n",
    "dtype = reviews.points.dtype\n",
    "\n",
    "# Check your answer\n",
    "q1.check()"
   ]
  },
  {
   "cell_type": "code",
   "execution_count": 3,
   "id": "c20d1036",
   "metadata": {
    "execution": {
     "iopub.execute_input": "2022-01-16T15:05:21.899610Z",
     "iopub.status.busy": "2022-01-16T15:05:21.898041Z",
     "iopub.status.idle": "2022-01-16T15:05:21.901753Z",
     "shell.execute_reply": "2022-01-16T15:05:21.902214Z"
    },
    "papermill": {
     "duration": 0.017421,
     "end_time": "2022-01-16T15:05:21.902389",
     "exception": false,
     "start_time": "2022-01-16T15:05:21.884968",
     "status": "completed"
    },
    "tags": []
   },
   "outputs": [],
   "source": [
    "#q1.hint()\n",
    "#q1.solution()"
   ]
  },
  {
   "cell_type": "markdown",
   "id": "e29eb42c",
   "metadata": {
    "papermill": {
     "duration": 0.010122,
     "end_time": "2022-01-16T15:05:21.922935",
     "exception": false,
     "start_time": "2022-01-16T15:05:21.912813",
     "status": "completed"
    },
    "tags": []
   },
   "source": [
    "## 2. \n",
    "Create a Series from entries in the `points` column, but convert the entries to strings. Hint: strings are `str` in native Python."
   ]
  },
  {
   "cell_type": "code",
   "execution_count": 4,
   "id": "bbda88de",
   "metadata": {
    "execution": {
     "iopub.execute_input": "2022-01-16T15:05:21.947625Z",
     "iopub.status.busy": "2022-01-16T15:05:21.946911Z",
     "iopub.status.idle": "2022-01-16T15:05:22.042612Z",
     "shell.execute_reply": "2022-01-16T15:05:22.043132Z",
     "shell.execute_reply.started": "2022-01-16T14:49:31.435066Z"
    },
    "papermill": {
     "duration": 0.109978,
     "end_time": "2022-01-16T15:05:22.043315",
     "exception": false,
     "start_time": "2022-01-16T15:05:21.933337",
     "status": "completed"
    },
    "tags": []
   },
   "outputs": [
    {
     "data": {
      "application/javascript": [
       "parent.postMessage({\"jupyterEvent\": \"custom.exercise_interaction\", \"data\": {\"outcomeType\": 1, \"valueTowardsCompletion\": 0.25, \"interactionType\": 1, \"questionType\": 1, \"questionId\": \"2_StrPoints\", \"learnToolsVersion\": \"0.3.4\", \"failureMessage\": \"\", \"exceptionClass\": \"\", \"trace\": \"\"}}, \"*\")"
      ],
      "text/plain": [
       "<IPython.core.display.Javascript object>"
      ]
     },
     "metadata": {},
     "output_type": "display_data"
    },
    {
     "data": {
      "text/markdown": [
       "<span style=\"color:#33cc33\">Correct</span>"
      ],
      "text/plain": [
       "Correct"
      ]
     },
     "metadata": {},
     "output_type": "display_data"
    }
   ],
   "source": [
    "point_strings = reviews.points.astype(\"str\")\n",
    "\n",
    "# Check your answer\n",
    "q2.check()"
   ]
  },
  {
   "cell_type": "code",
   "execution_count": 5,
   "id": "4196e56a",
   "metadata": {
    "execution": {
     "iopub.execute_input": "2022-01-16T15:05:22.070719Z",
     "iopub.status.busy": "2022-01-16T15:05:22.070036Z",
     "iopub.status.idle": "2022-01-16T15:05:22.071530Z",
     "shell.execute_reply": "2022-01-16T15:05:22.072005Z"
    },
    "papermill": {
     "duration": 0.017712,
     "end_time": "2022-01-16T15:05:22.072196",
     "exception": false,
     "start_time": "2022-01-16T15:05:22.054484",
     "status": "completed"
    },
    "tags": []
   },
   "outputs": [],
   "source": [
    "#q2.hint()\n",
    "#q2.solution()"
   ]
  },
  {
   "cell_type": "markdown",
   "id": "4da69871",
   "metadata": {
    "papermill": {
     "duration": 0.011015,
     "end_time": "2022-01-16T15:05:22.094488",
     "exception": false,
     "start_time": "2022-01-16T15:05:22.083473",
     "status": "completed"
    },
    "tags": []
   },
   "source": [
    "## 3.\n",
    "Sometimes the price column is null. How many reviews in the dataset are missing a price?"
   ]
  },
  {
   "cell_type": "code",
   "execution_count": 6,
   "id": "0c848fcf",
   "metadata": {
    "execution": {
     "iopub.execute_input": "2022-01-16T15:05:22.120379Z",
     "iopub.status.busy": "2022-01-16T15:05:22.119799Z",
     "iopub.status.idle": "2022-01-16T15:05:22.126916Z",
     "shell.execute_reply": "2022-01-16T15:05:22.127455Z",
     "shell.execute_reply.started": "2022-01-16T14:59:50.939903Z"
    },
    "papermill": {
     "duration": 0.021911,
     "end_time": "2022-01-16T15:05:22.127640",
     "exception": false,
     "start_time": "2022-01-16T15:05:22.105729",
     "status": "completed"
    },
    "tags": []
   },
   "outputs": [
    {
     "data": {
      "application/javascript": [
       "parent.postMessage({\"jupyterEvent\": \"custom.exercise_interaction\", \"data\": {\"outcomeType\": 1, \"valueTowardsCompletion\": 0.25, \"interactionType\": 1, \"questionType\": 1, \"questionId\": \"3_CountMissingPrices\", \"learnToolsVersion\": \"0.3.4\", \"failureMessage\": \"\", \"exceptionClass\": \"\", \"trace\": \"\"}}, \"*\")"
      ],
      "text/plain": [
       "<IPython.core.display.Javascript object>"
      ]
     },
     "metadata": {},
     "output_type": "display_data"
    },
    {
     "data": {
      "text/markdown": [
       "<span style=\"color:#33cc33\">Correct</span>"
      ],
      "text/plain": [
       "Correct"
      ]
     },
     "metadata": {},
     "output_type": "display_data"
    }
   ],
   "source": [
    "n_missing_prices = pd.isnull(reviews.price).sum()\n",
    "\n",
    "# Check your answer\n",
    "q3.check()"
   ]
  },
  {
   "cell_type": "code",
   "execution_count": 7,
   "id": "04d9e63c",
   "metadata": {
    "execution": {
     "iopub.execute_input": "2022-01-16T15:05:22.154483Z",
     "iopub.status.busy": "2022-01-16T15:05:22.153906Z",
     "iopub.status.idle": "2022-01-16T15:05:22.156989Z",
     "shell.execute_reply": "2022-01-16T15:05:22.157513Z"
    },
    "papermill": {
     "duration": 0.018087,
     "end_time": "2022-01-16T15:05:22.157699",
     "exception": false,
     "start_time": "2022-01-16T15:05:22.139612",
     "status": "completed"
    },
    "tags": []
   },
   "outputs": [],
   "source": [
    "#q3.hint()\n",
    "#q3.solution()"
   ]
  },
  {
   "cell_type": "markdown",
   "id": "1c61bd19",
   "metadata": {
    "papermill": {
     "duration": 0.011583,
     "end_time": "2022-01-16T15:05:22.181255",
     "exception": false,
     "start_time": "2022-01-16T15:05:22.169672",
     "status": "completed"
    },
    "tags": []
   },
   "source": [
    "## 4.\n",
    "What are the most common wine-producing regions? Create a Series counting the number of times each value occurs in the `region_1` field. This field is often missing data, so replace missing values with `Unknown`. Sort in descending order.  Your output should look something like this:\n",
    "\n",
    "```\n",
    "Unknown                    21247\n",
    "Napa Valley                 4480\n",
    "                           ...  \n",
    "Bardolino Superiore            1\n",
    "Primitivo del Tarantino        1\n",
    "Name: region_1, Length: 1230, dtype: int64\n",
    "```"
   ]
  },
  {
   "cell_type": "code",
   "execution_count": 8,
   "id": "11c96a5b",
   "metadata": {
    "execution": {
     "iopub.execute_input": "2022-01-16T15:05:22.209088Z",
     "iopub.status.busy": "2022-01-16T15:05:22.208440Z",
     "iopub.status.idle": "2022-01-16T15:05:22.250147Z",
     "shell.execute_reply": "2022-01-16T15:05:22.249663Z",
     "shell.execute_reply.started": "2022-01-16T15:04:47.672132Z"
    },
    "papermill": {
     "duration": 0.056514,
     "end_time": "2022-01-16T15:05:22.250285",
     "exception": false,
     "start_time": "2022-01-16T15:05:22.193771",
     "status": "completed"
    },
    "tags": []
   },
   "outputs": [
    {
     "data": {
      "application/javascript": [
       "parent.postMessage({\"jupyterEvent\": \"custom.exercise_interaction\", \"data\": {\"outcomeType\": 1, \"valueTowardsCompletion\": 0.25, \"interactionType\": 1, \"questionType\": 2, \"questionId\": \"4_ReviewsPerRegion\", \"learnToolsVersion\": \"0.3.4\", \"failureMessage\": \"\", \"exceptionClass\": \"\", \"trace\": \"\"}}, \"*\")"
      ],
      "text/plain": [
       "<IPython.core.display.Javascript object>"
      ]
     },
     "metadata": {},
     "output_type": "display_data"
    },
    {
     "data": {
      "text/markdown": [
       "<span style=\"color:#33cc33\">Correct</span>"
      ],
      "text/plain": [
       "Correct"
      ]
     },
     "metadata": {},
     "output_type": "display_data"
    }
   ],
   "source": [
    "\n",
    "reviews_per_region = reviews.region_1.fillna(\"Unknown\").value_counts().sort_values(ascending=False)\n",
    "\n",
    "# Check your answer\n",
    "q4.check()"
   ]
  },
  {
   "cell_type": "code",
   "execution_count": 9,
   "id": "67049577",
   "metadata": {
    "execution": {
     "iopub.execute_input": "2022-01-16T15:05:22.279627Z",
     "iopub.status.busy": "2022-01-16T15:05:22.279049Z",
     "iopub.status.idle": "2022-01-16T15:05:22.281723Z",
     "shell.execute_reply": "2022-01-16T15:05:22.282152Z"
    },
    "papermill": {
     "duration": 0.019114,
     "end_time": "2022-01-16T15:05:22.282310",
     "exception": false,
     "start_time": "2022-01-16T15:05:22.263196",
     "status": "completed"
    },
    "tags": []
   },
   "outputs": [],
   "source": [
    "#q4.hint()\n",
    "#q4.solution()"
   ]
  },
  {
   "cell_type": "markdown",
   "id": "3088692c",
   "metadata": {
    "papermill": {
     "duration": 0.012295,
     "end_time": "2022-01-16T15:05:22.307370",
     "exception": false,
     "start_time": "2022-01-16T15:05:22.295075",
     "status": "completed"
    },
    "tags": []
   },
   "source": [
    "# Keep going\n",
    "\n",
    "Move on to **[renaming and combining](https://www.kaggle.com/residentmario/renaming-and-combining)**."
   ]
  },
  {
   "cell_type": "markdown",
   "id": "8a23cb83",
   "metadata": {
    "papermill": {
     "duration": 0.012309,
     "end_time": "2022-01-16T15:05:22.332379",
     "exception": false,
     "start_time": "2022-01-16T15:05:22.320070",
     "status": "completed"
    },
    "tags": []
   },
   "source": [
    "---\n",
    "\n",
    "\n",
    "\n",
    "\n",
    "*Have questions or comments? Visit the [course discussion forum](https://www.kaggle.com/learn/pandas/discussion) to chat with other learners.*"
   ]
  }
 ],
 "metadata": {
  "kernelspec": {
   "display_name": "Python 3",
   "language": "python",
   "name": "python3"
  },
  "language_info": {
   "codemirror_mode": {
    "name": "ipython",
    "version": 3
   },
   "file_extension": ".py",
   "mimetype": "text/x-python",
   "name": "python",
   "nbconvert_exporter": "python",
   "pygments_lexer": "ipython3",
   "version": "3.7.12"
  },
  "papermill": {
   "default_parameters": {},
   "duration": 15.423448,
   "end_time": "2022-01-16T15:05:23.256944",
   "environment_variables": {},
   "exception": null,
   "input_path": "__notebook__.ipynb",
   "output_path": "__notebook__.ipynb",
   "parameters": {},
   "start_time": "2022-01-16T15:05:07.833496",
   "version": "2.3.3"
  }
 },
 "nbformat": 4,
 "nbformat_minor": 5
}
