{
 "cells": [
  {
   "cell_type": "markdown",
   "id": "3cb73e58",
   "metadata": {
    "papermill": {
     "duration": 0.014015,
     "end_time": "2022-01-16T14:41:34.074711",
     "exception": false,
     "start_time": "2022-01-16T14:41:34.060696",
     "status": "completed"
    },
    "tags": []
   },
   "source": [
    "**This notebook is an exercise in the [Pandas](https://www.kaggle.com/learn/pandas) course.  You can reference the tutorial at [this link](https://www.kaggle.com/residentmario/grouping-and-sorting).**\n",
    "\n",
    "---\n"
   ]
  },
  {
   "cell_type": "markdown",
   "id": "0e4e9356",
   "metadata": {
    "papermill": {
     "duration": 0.012275,
     "end_time": "2022-01-16T14:41:34.101821",
     "exception": false,
     "start_time": "2022-01-16T14:41:34.089546",
     "status": "completed"
    },
    "tags": []
   },
   "source": [
    "# Introduction\n",
    "\n",
    "In these exercises we'll apply groupwise analysis to our dataset.\n",
    "\n",
    "Run the code cell below to load the data before running the exercises."
   ]
  },
  {
   "cell_type": "code",
   "execution_count": 1,
   "id": "c005eefa",
   "metadata": {
    "execution": {
     "iopub.execute_input": "2022-01-16T14:41:34.131128Z",
     "iopub.status.busy": "2022-01-16T14:41:34.130109Z",
     "iopub.status.idle": "2022-01-16T14:41:36.929056Z",
     "shell.execute_reply": "2022-01-16T14:41:36.929841Z",
     "shell.execute_reply.started": "2022-01-16T14:35:53.160271Z"
    },
    "papermill": {
     "duration": 2.815761,
     "end_time": "2022-01-16T14:41:36.930121",
     "exception": false,
     "start_time": "2022-01-16T14:41:34.114360",
     "status": "completed"
    },
    "tags": []
   },
   "outputs": [
    {
     "name": "stdout",
     "output_type": "stream",
     "text": [
      "Setup complete.\n"
     ]
    }
   ],
   "source": [
    "import pandas as pd\n",
    "\n",
    "reviews = pd.read_csv(\"../input/wine-reviews/winemag-data-130k-v2.csv\", index_col=0)\n",
    "#pd.set_option(\"display.max_rows\", 5)\n",
    "\n",
    "from learntools.core import binder; binder.bind(globals())\n",
    "from learntools.pandas.grouping_and_sorting import *\n",
    "print(\"Setup complete.\")"
   ]
  },
  {
   "cell_type": "markdown",
   "id": "1731dd9f",
   "metadata": {
    "papermill": {
     "duration": 0.01325,
     "end_time": "2022-01-16T14:41:36.956948",
     "exception": false,
     "start_time": "2022-01-16T14:41:36.943698",
     "status": "completed"
    },
    "tags": []
   },
   "source": [
    "# Exercises"
   ]
  },
  {
   "cell_type": "markdown",
   "id": "d6f8bc71",
   "metadata": {
    "papermill": {
     "duration": 0.012361,
     "end_time": "2022-01-16T14:41:36.982026",
     "exception": false,
     "start_time": "2022-01-16T14:41:36.969665",
     "status": "completed"
    },
    "tags": []
   },
   "source": [
    "## 1.\n",
    "Who are the most common wine reviewers in the dataset? Create a `Series` whose index is the `taster_twitter_handle` category from the dataset, and whose values count how many reviews each person wrote."
   ]
  },
  {
   "cell_type": "code",
   "execution_count": 2,
   "id": "5ff78d0d",
   "metadata": {
    "execution": {
     "iopub.execute_input": "2022-01-16T14:41:37.020777Z",
     "iopub.status.busy": "2022-01-16T14:41:37.019901Z",
     "iopub.status.idle": "2022-01-16T14:41:37.035493Z",
     "shell.execute_reply": "2022-01-16T14:41:37.035987Z",
     "shell.execute_reply.started": "2022-01-16T14:36:00.328845Z"
    },
    "papermill": {
     "duration": 0.041653,
     "end_time": "2022-01-16T14:41:37.036147",
     "exception": false,
     "start_time": "2022-01-16T14:41:36.994494",
     "status": "completed"
    },
    "tags": []
   },
   "outputs": [
    {
     "data": {
      "application/javascript": [
       "parent.postMessage({\"jupyterEvent\": \"custom.exercise_interaction\", \"data\": {\"outcomeType\": 1, \"valueTowardsCompletion\": 0.16666666666666666, \"interactionType\": 1, \"questionType\": 1, \"questionId\": \"1_ReviewsWritten\", \"learnToolsVersion\": \"0.3.4\", \"failureMessage\": \"\", \"exceptionClass\": \"\", \"trace\": \"\"}}, \"*\")"
      ],
      "text/plain": [
       "<IPython.core.display.Javascript object>"
      ]
     },
     "metadata": {},
     "output_type": "display_data"
    },
    {
     "data": {
      "text/markdown": [
       "<span style=\"color:#33cc33\">Correct:</span> \n",
       "\n",
       "\n",
       "```python\n",
       "reviews_written = reviews.groupby('taster_twitter_handle').size()\n",
       "```\n",
       "or\n",
       "```python\n",
       "reviews_written = reviews.groupby('taster_twitter_handle').taster_twitter_handle.count()\n",
       "```\n"
      ],
      "text/plain": [
       "Correct: \n",
       "\n",
       "\n",
       "```python\n",
       "reviews_written = reviews.groupby('taster_twitter_handle').size()\n",
       "```\n",
       "or\n",
       "```python\n",
       "reviews_written = reviews.groupby('taster_twitter_handle').taster_twitter_handle.count()\n",
       "```"
      ]
     },
     "metadata": {},
     "output_type": "display_data"
    }
   ],
   "source": [
    "# Your code here\n",
    "reviews_written = reviews.groupby('taster_twitter_handle').taster_name.count()\n",
    "\n",
    "# Check your answer\n",
    "q1.check()"
   ]
  },
  {
   "cell_type": "code",
   "execution_count": 3,
   "id": "c500a705",
   "metadata": {
    "execution": {
     "iopub.execute_input": "2022-01-16T14:41:37.065356Z",
     "iopub.status.busy": "2022-01-16T14:41:37.064798Z",
     "iopub.status.idle": "2022-01-16T14:41:37.067331Z",
     "shell.execute_reply": "2022-01-16T14:41:37.067886Z",
     "shell.execute_reply.started": "2022-01-16T14:36:02.995095Z"
    },
    "papermill": {
     "duration": 0.018591,
     "end_time": "2022-01-16T14:41:37.068025",
     "exception": false,
     "start_time": "2022-01-16T14:41:37.049434",
     "status": "completed"
    },
    "tags": []
   },
   "outputs": [],
   "source": [
    "#q1.hint()\n",
    "#q1.solution()"
   ]
  },
  {
   "cell_type": "markdown",
   "id": "48272096",
   "metadata": {
    "papermill": {
     "duration": 0.013099,
     "end_time": "2022-01-16T14:41:37.094305",
     "exception": false,
     "start_time": "2022-01-16T14:41:37.081206",
     "status": "completed"
    },
    "tags": []
   },
   "source": [
    "## 2.\n",
    "What is the best wine I can buy for a given amount of money? Create a `Series` whose index is wine prices and whose values is the maximum number of points a wine costing that much was given in a review. Sort the values by price, ascending (so that `4.0` dollars is at the top and `3300.0` dollars is at the bottom)."
   ]
  },
  {
   "cell_type": "code",
   "execution_count": 4,
   "id": "2dc6f4fa",
   "metadata": {
    "execution": {
     "iopub.execute_input": "2022-01-16T14:41:37.125608Z",
     "iopub.status.busy": "2022-01-16T14:41:37.124958Z",
     "iopub.status.idle": "2022-01-16T14:41:37.135771Z",
     "shell.execute_reply": "2022-01-16T14:41:37.136297Z",
     "shell.execute_reply.started": "2022-01-16T14:36:05.086618Z"
    },
    "papermill": {
     "duration": 0.028782,
     "end_time": "2022-01-16T14:41:37.136438",
     "exception": false,
     "start_time": "2022-01-16T14:41:37.107656",
     "status": "completed"
    },
    "tags": []
   },
   "outputs": [
    {
     "name": "stdout",
     "output_type": "stream",
     "text": [
      "price\n",
      "4.0       86\n",
      "5.0       87\n",
      "6.0       88\n",
      "7.0       91\n",
      "8.0       91\n",
      "          ..\n",
      "1900.0    98\n",
      "2000.0    97\n",
      "2013.0    91\n",
      "2500.0    96\n",
      "3300.0    88\n",
      "Name: points, Length: 390, dtype: int64\n"
     ]
    },
    {
     "data": {
      "application/javascript": [
       "parent.postMessage({\"jupyterEvent\": \"custom.exercise_interaction\", \"data\": {\"outcomeType\": 1, \"valueTowardsCompletion\": 0.16666666666666666, \"interactionType\": 1, \"questionType\": 1, \"questionId\": \"2_BestRatingPerPrice\", \"learnToolsVersion\": \"0.3.4\", \"failureMessage\": \"\", \"exceptionClass\": \"\", \"trace\": \"\"}}, \"*\")"
      ],
      "text/plain": [
       "<IPython.core.display.Javascript object>"
      ]
     },
     "metadata": {},
     "output_type": "display_data"
    },
    {
     "data": {
      "text/markdown": [
       "<span style=\"color:#33cc33\">Correct</span>"
      ],
      "text/plain": [
       "Correct"
      ]
     },
     "metadata": {},
     "output_type": "display_data"
    }
   ],
   "source": [
    "best_rating_per_price = reviews.groupby('price').points.max()\n",
    "\n",
    "print(best_rating_per_price)\n",
    "# Check your answer\n",
    "q2.check()"
   ]
  },
  {
   "cell_type": "code",
   "execution_count": 5,
   "id": "bb068c3b",
   "metadata": {
    "execution": {
     "iopub.execute_input": "2022-01-16T14:41:37.168181Z",
     "iopub.status.busy": "2022-01-16T14:41:37.167595Z",
     "iopub.status.idle": "2022-01-16T14:41:37.170332Z",
     "shell.execute_reply": "2022-01-16T14:41:37.170788Z"
    },
    "papermill": {
     "duration": 0.020217,
     "end_time": "2022-01-16T14:41:37.170937",
     "exception": false,
     "start_time": "2022-01-16T14:41:37.150720",
     "status": "completed"
    },
    "tags": []
   },
   "outputs": [],
   "source": [
    "#q2.hint()\n",
    "#q2.solution()"
   ]
  },
  {
   "cell_type": "markdown",
   "id": "f5bf0948",
   "metadata": {
    "papermill": {
     "duration": 0.014581,
     "end_time": "2022-01-16T14:41:37.200160",
     "exception": false,
     "start_time": "2022-01-16T14:41:37.185579",
     "status": "completed"
    },
    "tags": []
   },
   "source": [
    "## 3.\n",
    "What are the minimum and maximum prices for each `variety` of wine? Create a `DataFrame` whose index is the `variety` category from the dataset and whose values are the `min` and `max` values thereof."
   ]
  },
  {
   "cell_type": "code",
   "execution_count": 6,
   "id": "e049d73b",
   "metadata": {
    "execution": {
     "iopub.execute_input": "2022-01-16T14:41:37.232241Z",
     "iopub.status.busy": "2022-01-16T14:41:37.231684Z",
     "iopub.status.idle": "2022-01-16T14:41:37.252488Z",
     "shell.execute_reply": "2022-01-16T14:41:37.253002Z",
     "shell.execute_reply.started": "2022-01-16T14:36:09.270807Z"
    },
    "papermill": {
     "duration": 0.038405,
     "end_time": "2022-01-16T14:41:37.253174",
     "exception": false,
     "start_time": "2022-01-16T14:41:37.214769",
     "status": "completed"
    },
    "tags": []
   },
   "outputs": [
    {
     "data": {
      "application/javascript": [
       "parent.postMessage({\"jupyterEvent\": \"custom.exercise_interaction\", \"data\": {\"outcomeType\": 1, \"valueTowardsCompletion\": 0.16666666666666666, \"interactionType\": 1, \"questionType\": 1, \"questionId\": \"3_PriceExtremes\", \"learnToolsVersion\": \"0.3.4\", \"failureMessage\": \"\", \"exceptionClass\": \"\", \"trace\": \"\"}}, \"*\")"
      ],
      "text/plain": [
       "<IPython.core.display.Javascript object>"
      ]
     },
     "metadata": {},
     "output_type": "display_data"
    },
    {
     "data": {
      "text/markdown": [
       "<span style=\"color:#33cc33\">Correct</span>"
      ],
      "text/plain": [
       "Correct"
      ]
     },
     "metadata": {},
     "output_type": "display_data"
    }
   ],
   "source": [
    "price_extremes = reviews.groupby('variety').price.agg([min,max])\n",
    "\n",
    "# Check your answer\n",
    "q3.check()"
   ]
  },
  {
   "cell_type": "code",
   "execution_count": 7,
   "id": "504add06",
   "metadata": {
    "execution": {
     "iopub.execute_input": "2022-01-16T14:41:37.286881Z",
     "iopub.status.busy": "2022-01-16T14:41:37.286339Z",
     "iopub.status.idle": "2022-01-16T14:41:37.288597Z",
     "shell.execute_reply": "2022-01-16T14:41:37.289091Z"
    },
    "papermill": {
     "duration": 0.020811,
     "end_time": "2022-01-16T14:41:37.289259",
     "exception": false,
     "start_time": "2022-01-16T14:41:37.268448",
     "status": "completed"
    },
    "tags": []
   },
   "outputs": [],
   "source": [
    "#q3.hint()\n",
    "#q3.solution()"
   ]
  },
  {
   "cell_type": "markdown",
   "id": "459e2a9e",
   "metadata": {
    "papermill": {
     "duration": 0.015268,
     "end_time": "2022-01-16T14:41:37.319829",
     "exception": false,
     "start_time": "2022-01-16T14:41:37.304561",
     "status": "completed"
    },
    "tags": []
   },
   "source": [
    "## 4.\n",
    "What are the most expensive wine varieties? Create a variable `sorted_varieties` containing a copy of the dataframe from the previous question where varieties are sorted in descending order based on minimum price, then on maximum price (to break ties)."
   ]
  },
  {
   "cell_type": "code",
   "execution_count": 8,
   "id": "0d12453f",
   "metadata": {
    "execution": {
     "iopub.execute_input": "2022-01-16T14:41:37.354005Z",
     "iopub.status.busy": "2022-01-16T14:41:37.353475Z",
     "iopub.status.idle": "2022-01-16T14:41:37.361355Z",
     "shell.execute_reply": "2022-01-16T14:41:37.361874Z",
     "shell.execute_reply.started": "2022-01-16T14:36:11.981676Z"
    },
    "papermill": {
     "duration": 0.02635,
     "end_time": "2022-01-16T14:41:37.362035",
     "exception": false,
     "start_time": "2022-01-16T14:41:37.335685",
     "status": "completed"
    },
    "tags": []
   },
   "outputs": [
    {
     "data": {
      "application/javascript": [
       "parent.postMessage({\"jupyterEvent\": \"custom.exercise_interaction\", \"data\": {\"outcomeType\": 1, \"valueTowardsCompletion\": 0.16666666666666666, \"interactionType\": 1, \"questionType\": 1, \"questionId\": \"4_SortedVarieties\", \"learnToolsVersion\": \"0.3.4\", \"failureMessage\": \"\", \"exceptionClass\": \"\", \"trace\": \"\"}}, \"*\")"
      ],
      "text/plain": [
       "<IPython.core.display.Javascript object>"
      ]
     },
     "metadata": {},
     "output_type": "display_data"
    },
    {
     "data": {
      "text/markdown": [
       "<span style=\"color:#33cc33\">Correct</span>"
      ],
      "text/plain": [
       "Correct"
      ]
     },
     "metadata": {},
     "output_type": "display_data"
    }
   ],
   "source": [
    "sorted_varieties = price_extremes.sort_values(by=['min','max'],ascending=False)\n",
    "\n",
    "# Check your answer\n",
    "q4.check()"
   ]
  },
  {
   "cell_type": "code",
   "execution_count": 9,
   "id": "b86da3ad",
   "metadata": {
    "execution": {
     "iopub.execute_input": "2022-01-16T14:41:37.398074Z",
     "iopub.status.busy": "2022-01-16T14:41:37.397515Z",
     "iopub.status.idle": "2022-01-16T14:41:37.399905Z",
     "shell.execute_reply": "2022-01-16T14:41:37.400367Z"
    },
    "papermill": {
     "duration": 0.02187,
     "end_time": "2022-01-16T14:41:37.400524",
     "exception": false,
     "start_time": "2022-01-16T14:41:37.378654",
     "status": "completed"
    },
    "tags": []
   },
   "outputs": [],
   "source": [
    "#q4.hint()\n",
    "#q4.solution()"
   ]
  },
  {
   "cell_type": "markdown",
   "id": "84cd2006",
   "metadata": {
    "papermill": {
     "duration": 0.017565,
     "end_time": "2022-01-16T14:41:37.434909",
     "exception": false,
     "start_time": "2022-01-16T14:41:37.417344",
     "status": "completed"
    },
    "tags": []
   },
   "source": [
    "## 5.\n",
    "Create a `Series` whose index is reviewers and whose values is the average review score given out by that reviewer. Hint: you will need the `taster_name` and `points` columns."
   ]
  },
  {
   "cell_type": "code",
   "execution_count": 10,
   "id": "92d8ea60",
   "metadata": {
    "execution": {
     "iopub.execute_input": "2022-01-16T14:41:37.470641Z",
     "iopub.status.busy": "2022-01-16T14:41:37.470069Z",
     "iopub.status.idle": "2022-01-16T14:41:37.487451Z",
     "shell.execute_reply": "2022-01-16T14:41:37.487876Z",
     "shell.execute_reply.started": "2022-01-16T14:36:15.394761Z"
    },
    "papermill": {
     "duration": 0.036538,
     "end_time": "2022-01-16T14:41:37.488030",
     "exception": false,
     "start_time": "2022-01-16T14:41:37.451492",
     "status": "completed"
    },
    "tags": []
   },
   "outputs": [
    {
     "data": {
      "application/javascript": [
       "parent.postMessage({\"jupyterEvent\": \"custom.exercise_interaction\", \"data\": {\"outcomeType\": 1, \"valueTowardsCompletion\": 0.16666666666666666, \"interactionType\": 1, \"questionType\": 1, \"questionId\": \"5_ReviewerMeanRatings\", \"learnToolsVersion\": \"0.3.4\", \"failureMessage\": \"\", \"exceptionClass\": \"\", \"trace\": \"\"}}, \"*\")"
      ],
      "text/plain": [
       "<IPython.core.display.Javascript object>"
      ]
     },
     "metadata": {},
     "output_type": "display_data"
    },
    {
     "data": {
      "text/markdown": [
       "<span style=\"color:#33cc33\">Correct</span>"
      ],
      "text/plain": [
       "Correct"
      ]
     },
     "metadata": {},
     "output_type": "display_data"
    }
   ],
   "source": [
    "reviewer_mean_ratings = reviews.groupby('taster_name').points.mean()\n",
    "\n",
    "# Check your answer\n",
    "q5.check()"
   ]
  },
  {
   "cell_type": "code",
   "execution_count": 11,
   "id": "a3af8cb5",
   "metadata": {
    "execution": {
     "iopub.execute_input": "2022-01-16T14:41:37.525325Z",
     "iopub.status.busy": "2022-01-16T14:41:37.524723Z",
     "iopub.status.idle": "2022-01-16T14:41:37.527393Z",
     "shell.execute_reply": "2022-01-16T14:41:37.527831Z"
    },
    "papermill": {
     "duration": 0.023008,
     "end_time": "2022-01-16T14:41:37.527985",
     "exception": false,
     "start_time": "2022-01-16T14:41:37.504977",
     "status": "completed"
    },
    "tags": []
   },
   "outputs": [],
   "source": [
    "#q5.hint()\n",
    "#q5.solution()"
   ]
  },
  {
   "cell_type": "markdown",
   "id": "4f2f4478",
   "metadata": {
    "papermill": {
     "duration": 0.016947,
     "end_time": "2022-01-16T14:41:37.562238",
     "exception": false,
     "start_time": "2022-01-16T14:41:37.545291",
     "status": "completed"
    },
    "tags": []
   },
   "source": [
    "Are there significant differences in the average scores assigned by the various reviewers? Run the cell below to use the `describe()` method to see a summary of the range of values."
   ]
  },
  {
   "cell_type": "code",
   "execution_count": 12,
   "id": "e2713cc9",
   "metadata": {
    "execution": {
     "iopub.execute_input": "2022-01-16T14:41:37.599328Z",
     "iopub.status.busy": "2022-01-16T14:41:37.598756Z",
     "iopub.status.idle": "2022-01-16T14:41:37.605760Z",
     "shell.execute_reply": "2022-01-16T14:41:37.606206Z",
     "shell.execute_reply.started": "2022-01-16T14:36:20.385498Z"
    },
    "papermill": {
     "duration": 0.02684,
     "end_time": "2022-01-16T14:41:37.606353",
     "exception": false,
     "start_time": "2022-01-16T14:41:37.579513",
     "status": "completed"
    },
    "tags": []
   },
   "outputs": [
    {
     "data": {
      "text/plain": [
       "count    19.000000\n",
       "mean     88.233026\n",
       "std       1.243610\n",
       "min      85.855422\n",
       "25%      87.323501\n",
       "50%      88.536235\n",
       "75%      88.975256\n",
       "max      90.562551\n",
       "Name: points, dtype: float64"
      ]
     },
     "execution_count": 12,
     "metadata": {},
     "output_type": "execute_result"
    }
   ],
   "source": [
    "reviewer_mean_ratings.describe()"
   ]
  },
  {
   "cell_type": "markdown",
   "id": "9262785a",
   "metadata": {
    "papermill": {
     "duration": 0.017351,
     "end_time": "2022-01-16T14:41:37.641000",
     "exception": false,
     "start_time": "2022-01-16T14:41:37.623649",
     "status": "completed"
    },
    "tags": []
   },
   "source": [
    "## 6.\n",
    "What combination of countries and varieties are most common? Create a `Series` whose index is a `MultiIndex`of `{country, variety}` pairs. For example, a pinot noir produced in the US should map to `{\"US\", \"Pinot Noir\"}`. Sort the values in the `Series` in descending order based on wine count."
   ]
  },
  {
   "cell_type": "code",
   "execution_count": 13,
   "id": "0d62bbb1",
   "metadata": {
    "execution": {
     "iopub.execute_input": "2022-01-16T14:41:37.679823Z",
     "iopub.status.busy": "2022-01-16T14:41:37.679240Z",
     "iopub.status.idle": "2022-01-16T14:41:37.714619Z",
     "shell.execute_reply": "2022-01-16T14:41:37.715052Z",
     "shell.execute_reply.started": "2022-01-16T14:41:08.141034Z"
    },
    "papermill": {
     "duration": 0.056606,
     "end_time": "2022-01-16T14:41:37.715228",
     "exception": false,
     "start_time": "2022-01-16T14:41:37.658622",
     "status": "completed"
    },
    "tags": []
   },
   "outputs": [
    {
     "data": {
      "application/javascript": [
       "parent.postMessage({\"jupyterEvent\": \"custom.exercise_interaction\", \"data\": {\"outcomeType\": 1, \"valueTowardsCompletion\": 0.16666666666666666, \"interactionType\": 1, \"questionType\": 1, \"questionId\": \"6_GroupbyCountryVariety\", \"learnToolsVersion\": \"0.3.4\", \"failureMessage\": \"\", \"exceptionClass\": \"\", \"trace\": \"\"}}, \"*\")"
      ],
      "text/plain": [
       "<IPython.core.display.Javascript object>"
      ]
     },
     "metadata": {},
     "output_type": "display_data"
    },
    {
     "data": {
      "text/markdown": [
       "<span style=\"color:#33cc33\">Correct</span>"
      ],
      "text/plain": [
       "Correct"
      ]
     },
     "metadata": {},
     "output_type": "display_data"
    }
   ],
   "source": [
    "country_variety_counts = reviews.groupby(['country','variety']).variety.count().sort_values(ascending=False)\n",
    "\n",
    "# Check your answer\n",
    "q6.check()"
   ]
  },
  {
   "cell_type": "code",
   "execution_count": 14,
   "id": "5ea77d1a",
   "metadata": {
    "execution": {
     "iopub.execute_input": "2022-01-16T14:41:37.754045Z",
     "iopub.status.busy": "2022-01-16T14:41:37.753500Z",
     "iopub.status.idle": "2022-01-16T14:41:37.755892Z",
     "shell.execute_reply": "2022-01-16T14:41:37.756350Z"
    },
    "papermill": {
     "duration": 0.023113,
     "end_time": "2022-01-16T14:41:37.756497",
     "exception": false,
     "start_time": "2022-01-16T14:41:37.733384",
     "status": "completed"
    },
    "tags": []
   },
   "outputs": [],
   "source": [
    "#q6.hint()\n",
    "#q6.solution()"
   ]
  },
  {
   "cell_type": "markdown",
   "id": "92d0151a",
   "metadata": {
    "papermill": {
     "duration": 0.018315,
     "end_time": "2022-01-16T14:41:37.792793",
     "exception": false,
     "start_time": "2022-01-16T14:41:37.774478",
     "status": "completed"
    },
    "tags": []
   },
   "source": [
    "# Keep going\n",
    "\n",
    "Move on to the [**data types and missing data**](https://www.kaggle.com/residentmario/data-types-and-missing-values)."
   ]
  },
  {
   "cell_type": "markdown",
   "id": "a5d744a7",
   "metadata": {
    "papermill": {
     "duration": 0.017921,
     "end_time": "2022-01-16T14:41:37.829027",
     "exception": false,
     "start_time": "2022-01-16T14:41:37.811106",
     "status": "completed"
    },
    "tags": []
   },
   "source": [
    "---\n",
    "\n",
    "\n",
    "\n",
    "\n",
    "*Have questions or comments? Visit the [course discussion forum](https://www.kaggle.com/learn/pandas/discussion) to chat with other learners.*"
   ]
  }
 ],
 "metadata": {
  "kernelspec": {
   "display_name": "Python 3",
   "language": "python",
   "name": "python3"
  },
  "language_info": {
   "codemirror_mode": {
    "name": "ipython",
    "version": 3
   },
   "file_extension": ".py",
   "mimetype": "text/x-python",
   "name": "python",
   "nbconvert_exporter": "python",
   "pygments_lexer": "ipython3",
   "version": "3.7.12"
  },
  "papermill": {
   "default_parameters": {},
   "duration": 12.468019,
   "end_time": "2022-01-16T14:41:38.456386",
   "environment_variables": {},
   "exception": null,
   "input_path": "__notebook__.ipynb",
   "output_path": "__notebook__.ipynb",
   "parameters": {},
   "start_time": "2022-01-16T14:41:25.988367",
   "version": "2.3.3"
  }
 },
 "nbformat": 4,
 "nbformat_minor": 5
}
