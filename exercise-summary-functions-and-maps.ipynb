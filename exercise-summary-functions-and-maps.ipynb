{
 "cells": [
  {
   "cell_type": "markdown",
   "id": "6b6e44f9",
   "metadata": {
    "papermill": {
     "duration": 0.021596,
     "end_time": "2022-01-16T12:56:46.541284",
     "exception": false,
     "start_time": "2022-01-16T12:56:46.519688",
     "status": "completed"
    },
    "tags": []
   },
   "source": [
    "**This notebook is an exercise in the [Pandas](https://www.kaggle.com/learn/pandas) course.  You can reference the tutorial at [this link](https://www.kaggle.com/residentmario/summary-functions-and-maps).**\n",
    "\n",
    "---\n"
   ]
  },
  {
   "cell_type": "markdown",
   "id": "ae6271cb",
   "metadata": {
    "papermill": {
     "duration": 0.018415,
     "end_time": "2022-01-16T12:56:46.578920",
     "exception": false,
     "start_time": "2022-01-16T12:56:46.560505",
     "status": "completed"
    },
    "tags": []
   },
   "source": [
    "# Introduction\n",
    "\n",
    "Now you are ready to get a deeper understanding of your data.\n",
    "\n",
    "Run the following cell to load your data and some utility functions (including code to check your answers)."
   ]
  },
  {
   "cell_type": "code",
   "execution_count": 1,
   "id": "cd2859b3",
   "metadata": {
    "execution": {
     "iopub.execute_input": "2022-01-16T12:56:46.620510Z",
     "iopub.status.busy": "2022-01-16T12:56:46.619340Z",
     "iopub.status.idle": "2022-01-16T12:56:54.410476Z",
     "shell.execute_reply": "2022-01-16T12:56:54.411233Z",
     "shell.execute_reply.started": "2022-01-16T12:07:06.631008Z"
    },
    "papermill": {
     "duration": 7.814068,
     "end_time": "2022-01-16T12:56:54.411622",
     "exception": false,
     "start_time": "2022-01-16T12:56:46.597554",
     "status": "completed"
    },
    "tags": []
   },
   "outputs": [
    {
     "name": "stdout",
     "output_type": "stream",
     "text": [
      "Setup complete.\n"
     ]
    },
    {
     "data": {
      "text/html": [
       "<div>\n",
       "<style scoped>\n",
       "    .dataframe tbody tr th:only-of-type {\n",
       "        vertical-align: middle;\n",
       "    }\n",
       "\n",
       "    .dataframe tbody tr th {\n",
       "        vertical-align: top;\n",
       "    }\n",
       "\n",
       "    .dataframe thead th {\n",
       "        text-align: right;\n",
       "    }\n",
       "</style>\n",
       "<table border=\"1\" class=\"dataframe\">\n",
       "  <thead>\n",
       "    <tr style=\"text-align: right;\">\n",
       "      <th></th>\n",
       "      <th>country</th>\n",
       "      <th>description</th>\n",
       "      <th>designation</th>\n",
       "      <th>points</th>\n",
       "      <th>price</th>\n",
       "      <th>province</th>\n",
       "      <th>region_1</th>\n",
       "      <th>region_2</th>\n",
       "      <th>taster_name</th>\n",
       "      <th>taster_twitter_handle</th>\n",
       "      <th>title</th>\n",
       "      <th>variety</th>\n",
       "      <th>winery</th>\n",
       "    </tr>\n",
       "  </thead>\n",
       "  <tbody>\n",
       "    <tr>\n",
       "      <th>0</th>\n",
       "      <td>Italy</td>\n",
       "      <td>Aromas include tropical fruit, broom, brimston...</td>\n",
       "      <td>Vulkà Bianco</td>\n",
       "      <td>87</td>\n",
       "      <td>NaN</td>\n",
       "      <td>Sicily &amp; Sardinia</td>\n",
       "      <td>Etna</td>\n",
       "      <td>NaN</td>\n",
       "      <td>Kerin O’Keefe</td>\n",
       "      <td>@kerinokeefe</td>\n",
       "      <td>Nicosia 2013 Vulkà Bianco  (Etna)</td>\n",
       "      <td>White Blend</td>\n",
       "      <td>Nicosia</td>\n",
       "    </tr>\n",
       "    <tr>\n",
       "      <th>1</th>\n",
       "      <td>Portugal</td>\n",
       "      <td>This is ripe and fruity, a wine that is smooth...</td>\n",
       "      <td>Avidagos</td>\n",
       "      <td>87</td>\n",
       "      <td>15.0</td>\n",
       "      <td>Douro</td>\n",
       "      <td>NaN</td>\n",
       "      <td>NaN</td>\n",
       "      <td>Roger Voss</td>\n",
       "      <td>@vossroger</td>\n",
       "      <td>Quinta dos Avidagos 2011 Avidagos Red (Douro)</td>\n",
       "      <td>Portuguese Red</td>\n",
       "      <td>Quinta dos Avidagos</td>\n",
       "    </tr>\n",
       "    <tr>\n",
       "      <th>2</th>\n",
       "      <td>US</td>\n",
       "      <td>Tart and snappy, the flavors of lime flesh and...</td>\n",
       "      <td>NaN</td>\n",
       "      <td>87</td>\n",
       "      <td>14.0</td>\n",
       "      <td>Oregon</td>\n",
       "      <td>Willamette Valley</td>\n",
       "      <td>Willamette Valley</td>\n",
       "      <td>Paul Gregutt</td>\n",
       "      <td>@paulgwine</td>\n",
       "      <td>Rainstorm 2013 Pinot Gris (Willamette Valley)</td>\n",
       "      <td>Pinot Gris</td>\n",
       "      <td>Rainstorm</td>\n",
       "    </tr>\n",
       "    <tr>\n",
       "      <th>3</th>\n",
       "      <td>US</td>\n",
       "      <td>Pineapple rind, lemon pith and orange blossom ...</td>\n",
       "      <td>Reserve Late Harvest</td>\n",
       "      <td>87</td>\n",
       "      <td>13.0</td>\n",
       "      <td>Michigan</td>\n",
       "      <td>Lake Michigan Shore</td>\n",
       "      <td>NaN</td>\n",
       "      <td>Alexander Peartree</td>\n",
       "      <td>NaN</td>\n",
       "      <td>St. Julian 2013 Reserve Late Harvest Riesling ...</td>\n",
       "      <td>Riesling</td>\n",
       "      <td>St. Julian</td>\n",
       "    </tr>\n",
       "    <tr>\n",
       "      <th>4</th>\n",
       "      <td>US</td>\n",
       "      <td>Much like the regular bottling from 2012, this...</td>\n",
       "      <td>Vintner's Reserve Wild Child Block</td>\n",
       "      <td>87</td>\n",
       "      <td>65.0</td>\n",
       "      <td>Oregon</td>\n",
       "      <td>Willamette Valley</td>\n",
       "      <td>Willamette Valley</td>\n",
       "      <td>Paul Gregutt</td>\n",
       "      <td>@paulgwine</td>\n",
       "      <td>Sweet Cheeks 2012 Vintner's Reserve Wild Child...</td>\n",
       "      <td>Pinot Noir</td>\n",
       "      <td>Sweet Cheeks</td>\n",
       "    </tr>\n",
       "  </tbody>\n",
       "</table>\n",
       "</div>"
      ],
      "text/plain": [
       "    country                                        description  \\\n",
       "0     Italy  Aromas include tropical fruit, broom, brimston...   \n",
       "1  Portugal  This is ripe and fruity, a wine that is smooth...   \n",
       "2        US  Tart and snappy, the flavors of lime flesh and...   \n",
       "3        US  Pineapple rind, lemon pith and orange blossom ...   \n",
       "4        US  Much like the regular bottling from 2012, this...   \n",
       "\n",
       "                          designation  points  price           province  \\\n",
       "0                        Vulkà Bianco      87    NaN  Sicily & Sardinia   \n",
       "1                            Avidagos      87   15.0              Douro   \n",
       "2                                 NaN      87   14.0             Oregon   \n",
       "3                Reserve Late Harvest      87   13.0           Michigan   \n",
       "4  Vintner's Reserve Wild Child Block      87   65.0             Oregon   \n",
       "\n",
       "              region_1           region_2         taster_name  \\\n",
       "0                 Etna                NaN       Kerin O’Keefe   \n",
       "1                  NaN                NaN          Roger Voss   \n",
       "2    Willamette Valley  Willamette Valley        Paul Gregutt   \n",
       "3  Lake Michigan Shore                NaN  Alexander Peartree   \n",
       "4    Willamette Valley  Willamette Valley        Paul Gregutt   \n",
       "\n",
       "  taster_twitter_handle                                              title  \\\n",
       "0          @kerinokeefe                  Nicosia 2013 Vulkà Bianco  (Etna)   \n",
       "1            @vossroger      Quinta dos Avidagos 2011 Avidagos Red (Douro)   \n",
       "2           @paulgwine       Rainstorm 2013 Pinot Gris (Willamette Valley)   \n",
       "3                   NaN  St. Julian 2013 Reserve Late Harvest Riesling ...   \n",
       "4           @paulgwine   Sweet Cheeks 2012 Vintner's Reserve Wild Child...   \n",
       "\n",
       "          variety               winery  \n",
       "0     White Blend              Nicosia  \n",
       "1  Portuguese Red  Quinta dos Avidagos  \n",
       "2      Pinot Gris            Rainstorm  \n",
       "3        Riesling           St. Julian  \n",
       "4      Pinot Noir         Sweet Cheeks  "
      ]
     },
     "execution_count": 1,
     "metadata": {},
     "output_type": "execute_result"
    }
   ],
   "source": [
    "import pandas as pd\n",
    "pd.set_option(\"display.max_rows\", 5)\n",
    "reviews = pd.read_csv(\"../input/wine-reviews/winemag-data-130k-v2.csv\", index_col=0)\n",
    "\n",
    "from learntools.core import binder; binder.bind(globals())\n",
    "from learntools.pandas.summary_functions_and_maps import *\n",
    "print(\"Setup complete.\")\n",
    "\n",
    "reviews.head()"
   ]
  },
  {
   "cell_type": "markdown",
   "id": "c27f7c94",
   "metadata": {
    "papermill": {
     "duration": 0.018407,
     "end_time": "2022-01-16T12:56:54.449633",
     "exception": false,
     "start_time": "2022-01-16T12:56:54.431226",
     "status": "completed"
    },
    "tags": []
   },
   "source": [
    "# Exercises"
   ]
  },
  {
   "cell_type": "markdown",
   "id": "d59470f6",
   "metadata": {
    "papermill": {
     "duration": 0.018492,
     "end_time": "2022-01-16T12:56:54.486995",
     "exception": false,
     "start_time": "2022-01-16T12:56:54.468503",
     "status": "completed"
    },
    "tags": []
   },
   "source": [
    "## 1.\n",
    "\n",
    "What is the median of the `points` column in the `reviews` DataFrame?"
   ]
  },
  {
   "cell_type": "code",
   "execution_count": 2,
   "id": "fae1f76c",
   "metadata": {
    "execution": {
     "iopub.execute_input": "2022-01-16T12:56:54.529746Z",
     "iopub.status.busy": "2022-01-16T12:56:54.528804Z",
     "iopub.status.idle": "2022-01-16T12:56:54.535282Z",
     "shell.execute_reply": "2022-01-16T12:56:54.535839Z",
     "shell.execute_reply.started": "2022-01-16T12:07:28.788885Z"
    },
    "papermill": {
     "duration": 0.030328,
     "end_time": "2022-01-16T12:56:54.536007",
     "exception": false,
     "start_time": "2022-01-16T12:56:54.505679",
     "status": "completed"
    },
    "tags": []
   },
   "outputs": [
    {
     "data": {
      "application/javascript": [
       "parent.postMessage({\"jupyterEvent\": \"custom.exercise_interaction\", \"data\": {\"outcomeType\": 1, \"valueTowardsCompletion\": 0.14285714285714285, \"interactionType\": 1, \"questionType\": 1, \"questionId\": \"1_MedianPoints\", \"learnToolsVersion\": \"0.3.4\", \"failureMessage\": \"\", \"exceptionClass\": \"\", \"trace\": \"\"}}, \"*\")"
      ],
      "text/plain": [
       "<IPython.core.display.Javascript object>"
      ]
     },
     "metadata": {},
     "output_type": "display_data"
    },
    {
     "data": {
      "text/markdown": [
       "<span style=\"color:#33cc33\">Correct</span>"
      ],
      "text/plain": [
       "Correct"
      ]
     },
     "metadata": {},
     "output_type": "display_data"
    }
   ],
   "source": [
    "median_points = reviews.points.median()\n",
    "\n",
    "# Check your answer\n",
    "q1.check()"
   ]
  },
  {
   "cell_type": "code",
   "execution_count": 3,
   "id": "1856e59c",
   "metadata": {
    "execution": {
     "iopub.execute_input": "2022-01-16T12:56:54.580463Z",
     "iopub.status.busy": "2022-01-16T12:56:54.579643Z",
     "iopub.status.idle": "2022-01-16T12:56:54.582473Z",
     "shell.execute_reply": "2022-01-16T12:56:54.581896Z"
    },
    "papermill": {
     "duration": 0.026458,
     "end_time": "2022-01-16T12:56:54.582610",
     "exception": false,
     "start_time": "2022-01-16T12:56:54.556152",
     "status": "completed"
    },
    "tags": []
   },
   "outputs": [],
   "source": [
    "#q1.hint()\n",
    "#q1.solution()"
   ]
  },
  {
   "cell_type": "markdown",
   "id": "03a228ca",
   "metadata": {
    "papermill": {
     "duration": 0.019815,
     "end_time": "2022-01-16T12:56:54.622445",
     "exception": false,
     "start_time": "2022-01-16T12:56:54.602630",
     "status": "completed"
    },
    "tags": []
   },
   "source": [
    "## 2. \n",
    "What countries are represented in the dataset? (Your answer should not include any duplicates.)"
   ]
  },
  {
   "cell_type": "code",
   "execution_count": 4,
   "id": "0c531c09",
   "metadata": {
    "execution": {
     "iopub.execute_input": "2022-01-16T12:56:54.680134Z",
     "iopub.status.busy": "2022-01-16T12:56:54.679437Z",
     "iopub.status.idle": "2022-01-16T12:56:54.685766Z",
     "shell.execute_reply": "2022-01-16T12:56:54.685227Z",
     "shell.execute_reply.started": "2022-01-16T12:08:06.188308Z"
    },
    "papermill": {
     "duration": 0.043391,
     "end_time": "2022-01-16T12:56:54.685898",
     "exception": false,
     "start_time": "2022-01-16T12:56:54.642507",
     "status": "completed"
    },
    "tags": []
   },
   "outputs": [
    {
     "data": {
      "application/javascript": [
       "parent.postMessage({\"jupyterEvent\": \"custom.exercise_interaction\", \"data\": {\"outcomeType\": 1, \"valueTowardsCompletion\": 0.14285714285714285, \"interactionType\": 1, \"questionType\": 2, \"questionId\": \"2_UniqueCountries\", \"learnToolsVersion\": \"0.3.4\", \"failureMessage\": \"\", \"exceptionClass\": \"\", \"trace\": \"\"}}, \"*\")"
      ],
      "text/plain": [
       "<IPython.core.display.Javascript object>"
      ]
     },
     "metadata": {},
     "output_type": "display_data"
    },
    {
     "data": {
      "text/markdown": [
       "<span style=\"color:#33cc33\">Correct</span>"
      ],
      "text/plain": [
       "Correct"
      ]
     },
     "metadata": {},
     "output_type": "display_data"
    }
   ],
   "source": [
    "countries = reviews.country.unique()\n",
    "\n",
    "# Check your answer\n",
    "q2.check()"
   ]
  },
  {
   "cell_type": "code",
   "execution_count": 5,
   "id": "5adf6c94",
   "metadata": {
    "execution": {
     "iopub.execute_input": "2022-01-16T12:56:54.732323Z",
     "iopub.status.busy": "2022-01-16T12:56:54.731675Z",
     "iopub.status.idle": "2022-01-16T12:56:54.735582Z",
     "shell.execute_reply": "2022-01-16T12:56:54.734983Z"
    },
    "papermill": {
     "duration": 0.028746,
     "end_time": "2022-01-16T12:56:54.735715",
     "exception": false,
     "start_time": "2022-01-16T12:56:54.706969",
     "status": "completed"
    },
    "tags": []
   },
   "outputs": [],
   "source": [
    "#q2.hint()\n",
    "#q2.solution()"
   ]
  },
  {
   "cell_type": "markdown",
   "id": "ae7d9ecc",
   "metadata": {
    "papermill": {
     "duration": 0.020522,
     "end_time": "2022-01-16T12:56:54.777913",
     "exception": false,
     "start_time": "2022-01-16T12:56:54.757391",
     "status": "completed"
    },
    "tags": []
   },
   "source": [
    "## 3.\n",
    "How often does each country appear in the dataset? Create a Series `reviews_per_country` mapping countries to the count of reviews of wines from that country."
   ]
  },
  {
   "cell_type": "code",
   "execution_count": 6,
   "id": "4dcf78c9",
   "metadata": {
    "execution": {
     "iopub.execute_input": "2022-01-16T12:56:54.843815Z",
     "iopub.status.busy": "2022-01-16T12:56:54.841461Z",
     "iopub.status.idle": "2022-01-16T12:56:54.849866Z",
     "shell.execute_reply": "2022-01-16T12:56:54.849278Z",
     "shell.execute_reply.started": "2022-01-16T12:09:19.652309Z"
    },
    "papermill": {
     "duration": 0.051144,
     "end_time": "2022-01-16T12:56:54.850007",
     "exception": false,
     "start_time": "2022-01-16T12:56:54.798863",
     "status": "completed"
    },
    "tags": []
   },
   "outputs": [
    {
     "data": {
      "application/javascript": [
       "parent.postMessage({\"jupyterEvent\": \"custom.exercise_interaction\", \"data\": {\"outcomeType\": 1, \"valueTowardsCompletion\": 0.14285714285714285, \"interactionType\": 1, \"questionType\": 1, \"questionId\": \"3_ReviewsPerCountry\", \"learnToolsVersion\": \"0.3.4\", \"failureMessage\": \"\", \"exceptionClass\": \"\", \"trace\": \"\"}}, \"*\")"
      ],
      "text/plain": [
       "<IPython.core.display.Javascript object>"
      ]
     },
     "metadata": {},
     "output_type": "display_data"
    },
    {
     "data": {
      "text/markdown": [
       "<span style=\"color:#33cc33\">Correct</span>"
      ],
      "text/plain": [
       "Correct"
      ]
     },
     "metadata": {},
     "output_type": "display_data"
    }
   ],
   "source": [
    "reviews_per_country = reviews.country.value_counts()\n",
    "\n",
    "# Check your answer\n",
    "q3.check()"
   ]
  },
  {
   "cell_type": "code",
   "execution_count": 7,
   "id": "06229b93",
   "metadata": {
    "execution": {
     "iopub.execute_input": "2022-01-16T12:56:54.901970Z",
     "iopub.status.busy": "2022-01-16T12:56:54.900779Z",
     "iopub.status.idle": "2022-01-16T12:56:54.903926Z",
     "shell.execute_reply": "2022-01-16T12:56:54.904548Z"
    },
    "papermill": {
     "duration": 0.031981,
     "end_time": "2022-01-16T12:56:54.904740",
     "exception": false,
     "start_time": "2022-01-16T12:56:54.872759",
     "status": "completed"
    },
    "tags": []
   },
   "outputs": [],
   "source": [
    "#q3.hint()\n",
    "#q3.solution()"
   ]
  },
  {
   "cell_type": "markdown",
   "id": "07f0caae",
   "metadata": {
    "papermill": {
     "duration": 0.021801,
     "end_time": "2022-01-16T12:56:54.949319",
     "exception": false,
     "start_time": "2022-01-16T12:56:54.927518",
     "status": "completed"
    },
    "tags": []
   },
   "source": [
    "## 4.\n",
    "Create variable `centered_price` containing a version of the `price` column with the mean price subtracted.\n",
    "\n",
    "(Note: this 'centering' transformation is a common preprocessing step before applying various machine learning algorithms.) "
   ]
  },
  {
   "cell_type": "code",
   "execution_count": 8,
   "id": "00e25e04",
   "metadata": {
    "execution": {
     "iopub.execute_input": "2022-01-16T12:56:55.005394Z",
     "iopub.status.busy": "2022-01-16T12:56:55.004672Z",
     "iopub.status.idle": "2022-01-16T12:56:55.061197Z",
     "shell.execute_reply": "2022-01-16T12:56:55.060656Z",
     "shell.execute_reply.started": "2022-01-16T12:18:00.622823Z"
    },
    "papermill": {
     "duration": 0.089918,
     "end_time": "2022-01-16T12:56:55.061341",
     "exception": false,
     "start_time": "2022-01-16T12:56:54.971423",
     "status": "completed"
    },
    "tags": []
   },
   "outputs": [
    {
     "data": {
      "application/javascript": [
       "parent.postMessage({\"jupyterEvent\": \"custom.exercise_interaction\", \"data\": {\"outcomeType\": 1, \"valueTowardsCompletion\": 0.14285714285714285, \"interactionType\": 1, \"questionType\": 1, \"questionId\": \"4_CenteredPrice\", \"learnToolsVersion\": \"0.3.4\", \"failureMessage\": \"\", \"exceptionClass\": \"\", \"trace\": \"\"}}, \"*\")"
      ],
      "text/plain": [
       "<IPython.core.display.Javascript object>"
      ]
     },
     "metadata": {},
     "output_type": "display_data"
    },
    {
     "data": {
      "text/markdown": [
       "<span style=\"color:#33cc33\">Correct</span>"
      ],
      "text/plain": [
       "Correct"
      ]
     },
     "metadata": {},
     "output_type": "display_data"
    }
   ],
   "source": [
    "m=reviews.price.mean()\n",
    "centered_price = reviews.price.map(lambda p:p-m)\n",
    "\n",
    "# Check your answer\n",
    "q4.check()"
   ]
  },
  {
   "cell_type": "code",
   "execution_count": 9,
   "id": "f85b1533",
   "metadata": {
    "execution": {
     "iopub.execute_input": "2022-01-16T12:56:55.110837Z",
     "iopub.status.busy": "2022-01-16T12:56:55.110199Z",
     "iopub.status.idle": "2022-01-16T12:56:55.113690Z",
     "shell.execute_reply": "2022-01-16T12:56:55.114276Z",
     "shell.execute_reply.started": "2022-01-16T12:17:44.493023Z"
    },
    "papermill": {
     "duration": 0.029699,
     "end_time": "2022-01-16T12:56:55.114488",
     "exception": false,
     "start_time": "2022-01-16T12:56:55.084789",
     "status": "completed"
    },
    "tags": []
   },
   "outputs": [],
   "source": [
    "#q4.hint()\n",
    "#q4.solution()"
   ]
  },
  {
   "cell_type": "markdown",
   "id": "1bf19d1f",
   "metadata": {
    "papermill": {
     "duration": 0.022979,
     "end_time": "2022-01-16T12:56:55.162398",
     "exception": false,
     "start_time": "2022-01-16T12:56:55.139419",
     "status": "completed"
    },
    "tags": []
   },
   "source": [
    "## 5.\n",
    "I'm an economical wine buyer. Which wine is the \"best bargain\"? Create a variable `bargain_wine` with the title of the wine with the highest points-to-price ratio in the dataset."
   ]
  },
  {
   "cell_type": "code",
   "execution_count": 10,
   "id": "13fd2f7d",
   "metadata": {
    "execution": {
     "iopub.execute_input": "2022-01-16T12:56:55.211984Z",
     "iopub.status.busy": "2022-01-16T12:56:55.211344Z",
     "iopub.status.idle": "2022-01-16T12:56:55.223967Z",
     "shell.execute_reply": "2022-01-16T12:56:55.224510Z",
     "shell.execute_reply.started": "2022-01-16T12:33:36.422719Z"
    },
    "papermill": {
     "duration": 0.039061,
     "end_time": "2022-01-16T12:56:55.224682",
     "exception": false,
     "start_time": "2022-01-16T12:56:55.185621",
     "status": "completed"
    },
    "tags": []
   },
   "outputs": [
    {
     "data": {
      "application/javascript": [
       "parent.postMessage({\"jupyterEvent\": \"custom.exercise_interaction\", \"data\": {\"outcomeType\": 1, \"valueTowardsCompletion\": 0.14285714285714285, \"interactionType\": 1, \"questionType\": 2, \"questionId\": \"5_BargainWine\", \"learnToolsVersion\": \"0.3.4\", \"failureMessage\": \"\", \"exceptionClass\": \"\", \"trace\": \"\"}}, \"*\")"
      ],
      "text/plain": [
       "<IPython.core.display.Javascript object>"
      ]
     },
     "metadata": {},
     "output_type": "display_data"
    },
    {
     "data": {
      "text/markdown": [
       "<span style=\"color:#33cc33\">Correct</span>"
      ],
      "text/plain": [
       "Correct"
      ]
     },
     "metadata": {},
     "output_type": "display_data"
    }
   ],
   "source": [
    "m=(reviews.points/reviews.price).idxmax()\n",
    "bargain_wine = reviews.loc[m,'title']\n",
    "\n",
    "# Check your answer\n",
    "q5.check()"
   ]
  },
  {
   "cell_type": "code",
   "execution_count": 11,
   "id": "56ddc401",
   "metadata": {
    "execution": {
     "iopub.execute_input": "2022-01-16T12:56:55.278616Z",
     "iopub.status.busy": "2022-01-16T12:56:55.277723Z",
     "iopub.status.idle": "2022-01-16T12:56:55.279761Z",
     "shell.execute_reply": "2022-01-16T12:56:55.280227Z"
    },
    "papermill": {
     "duration": 0.030946,
     "end_time": "2022-01-16T12:56:55.280401",
     "exception": false,
     "start_time": "2022-01-16T12:56:55.249455",
     "status": "completed"
    },
    "tags": []
   },
   "outputs": [],
   "source": [
    "#q5.hint()\n",
    "#q5.solution()"
   ]
  },
  {
   "cell_type": "markdown",
   "id": "7b5b9476",
   "metadata": {
    "papermill": {
     "duration": 0.024372,
     "end_time": "2022-01-16T12:56:55.329305",
     "exception": false,
     "start_time": "2022-01-16T12:56:55.304933",
     "status": "completed"
    },
    "tags": []
   },
   "source": [
    "## 6.\n",
    "There are only so many words you can use when describing a bottle of wine. Is a wine more likely to be \"tropical\" or \"fruity\"? Create a Series `descriptor_counts` counting how many times each of these two words appears in the `description` column in the dataset. (For simplicity, let's ignore the capitalized versions of these words.)"
   ]
  },
  {
   "cell_type": "code",
   "execution_count": 12,
   "id": "2541da04",
   "metadata": {
    "execution": {
     "iopub.execute_input": "2022-01-16T12:56:55.391621Z",
     "iopub.status.busy": "2022-01-16T12:56:55.390837Z",
     "iopub.status.idle": "2022-01-16T12:56:55.535368Z",
     "shell.execute_reply": "2022-01-16T12:56:55.534775Z",
     "shell.execute_reply.started": "2022-01-16T12:43:41.882695Z"
    },
    "papermill": {
     "duration": 0.18217,
     "end_time": "2022-01-16T12:56:55.535516",
     "exception": false,
     "start_time": "2022-01-16T12:56:55.353346",
     "status": "completed"
    },
    "tags": []
   },
   "outputs": [
    {
     "data": {
      "application/javascript": [
       "parent.postMessage({\"jupyterEvent\": \"custom.exercise_interaction\", \"data\": {\"outcomeType\": 1, \"valueTowardsCompletion\": 0.14285714285714285, \"interactionType\": 1, \"questionType\": 1, \"questionId\": \"6_DescriptorCounts\", \"learnToolsVersion\": \"0.3.4\", \"failureMessage\": \"\", \"exceptionClass\": \"\", \"trace\": \"\"}}, \"*\")"
      ],
      "text/plain": [
       "<IPython.core.display.Javascript object>"
      ]
     },
     "metadata": {},
     "output_type": "display_data"
    },
    {
     "data": {
      "text/markdown": [
       "<span style=\"color:#33cc33\">Correct</span>"
      ],
      "text/plain": [
       "Correct"
      ]
     },
     "metadata": {},
     "output_type": "display_data"
    }
   ],
   "source": [
    "m=reviews.description.map(lambda p: \"tropical\" in p).sum()\n",
    "n=reviews.description.map(lambda p: \"fruity\" in p).sum()\n",
    "descriptor_counts = pd.Series([m,n],index=['tropical','fruity']) \n",
    "\n",
    "# Check your answer\n",
    "q6.check()"
   ]
  },
  {
   "cell_type": "code",
   "execution_count": 13,
   "id": "46cb0d11",
   "metadata": {
    "execution": {
     "iopub.execute_input": "2022-01-16T12:56:55.591755Z",
     "iopub.status.busy": "2022-01-16T12:56:55.590726Z",
     "iopub.status.idle": "2022-01-16T12:56:55.592934Z",
     "shell.execute_reply": "2022-01-16T12:56:55.593500Z",
     "shell.execute_reply.started": "2022-01-16T12:42:25.507298Z"
    },
    "papermill": {
     "duration": 0.032468,
     "end_time": "2022-01-16T12:56:55.593667",
     "exception": false,
     "start_time": "2022-01-16T12:56:55.561199",
     "status": "completed"
    },
    "tags": []
   },
   "outputs": [],
   "source": [
    "#q6.hint()\n",
    "#q6.solution()"
   ]
  },
  {
   "cell_type": "markdown",
   "id": "1aa2c3a6",
   "metadata": {
    "papermill": {
     "duration": 0.025346,
     "end_time": "2022-01-16T12:56:55.644357",
     "exception": false,
     "start_time": "2022-01-16T12:56:55.619011",
     "status": "completed"
    },
    "tags": []
   },
   "source": [
    "## 7.\n",
    "We'd like to host these wine reviews on our website, but a rating system ranging from 80 to 100 points is too hard to understand - we'd like to translate them into simple star ratings. A score of 95 or higher counts as 3 stars, a score of at least 85 but less than 95 is 2 stars. Any other score is 1 star.\n",
    "\n",
    "Also, the Canadian Vintners Association bought a lot of ads on the site, so any wines from Canada should automatically get 3 stars, regardless of points.\n",
    "\n",
    "Create a series `star_ratings` with the number of stars corresponding to each review in the dataset."
   ]
  },
  {
   "cell_type": "code",
   "execution_count": 14,
   "id": "77808c35",
   "metadata": {
    "execution": {
     "iopub.execute_input": "2022-01-16T12:56:55.701563Z",
     "iopub.status.busy": "2022-01-16T12:56:55.700415Z",
     "iopub.status.idle": "2022-01-16T12:57:00.561964Z",
     "shell.execute_reply": "2022-01-16T12:57:00.561339Z",
     "shell.execute_reply.started": "2022-01-16T12:51:52.052008Z"
    },
    "papermill": {
     "duration": 4.892565,
     "end_time": "2022-01-16T12:57:00.562137",
     "exception": false,
     "start_time": "2022-01-16T12:56:55.669572",
     "status": "completed"
    },
    "tags": []
   },
   "outputs": [
    {
     "data": {
      "application/javascript": [
       "parent.postMessage({\"jupyterEvent\": \"custom.exercise_interaction\", \"data\": {\"outcomeType\": 1, \"valueTowardsCompletion\": 0.14285714285714285, \"interactionType\": 1, \"questionType\": 1, \"questionId\": \"7_StarRatings\", \"learnToolsVersion\": \"0.3.4\", \"failureMessage\": \"\", \"exceptionClass\": \"\", \"trace\": \"\"}}, \"*\")"
      ],
      "text/plain": [
       "<IPython.core.display.Javascript object>"
      ]
     },
     "metadata": {},
     "output_type": "display_data"
    },
    {
     "data": {
      "text/markdown": [
       "<span style=\"color:#33cc33\">Correct</span>"
      ],
      "text/plain": [
       "Correct"
      ]
     },
     "metadata": {},
     "output_type": "display_data"
    }
   ],
   "source": [
    "def restar(row):\n",
    "    if row.country=='Canada': return 3\n",
    "    elif row.points>=95: return 3\n",
    "    elif row.points>=85: return 2\n",
    "    else: return 1\n",
    "star_ratings = reviews.apply(restar,axis='columns')\n",
    "\n",
    "# Check your answer\n",
    "q7.check()"
   ]
  },
  {
   "cell_type": "code",
   "execution_count": 15,
   "id": "44f1882b",
   "metadata": {
    "execution": {
     "iopub.execute_input": "2022-01-16T12:57:00.619515Z",
     "iopub.status.busy": "2022-01-16T12:57:00.618572Z",
     "iopub.status.idle": "2022-01-16T12:57:00.621786Z",
     "shell.execute_reply": "2022-01-16T12:57:00.622349Z",
     "shell.execute_reply.started": "2022-01-16T12:52:01.340082Z"
    },
    "papermill": {
     "duration": 0.033261,
     "end_time": "2022-01-16T12:57:00.622515",
     "exception": false,
     "start_time": "2022-01-16T12:57:00.589254",
     "status": "completed"
    },
    "tags": []
   },
   "outputs": [],
   "source": [
    "#q7.hint()\n",
    "#q7.solution()"
   ]
  },
  {
   "cell_type": "markdown",
   "id": "133e3d3a",
   "metadata": {
    "papermill": {
     "duration": 0.02762,
     "end_time": "2022-01-16T12:57:00.678379",
     "exception": false,
     "start_time": "2022-01-16T12:57:00.650759",
     "status": "completed"
    },
    "tags": []
   },
   "source": [
    "# Keep going\n",
    "Continue to **[grouping and sorting](https://www.kaggle.com/residentmario/grouping-and-sorting)**."
   ]
  },
  {
   "cell_type": "markdown",
   "id": "43416481",
   "metadata": {
    "papermill": {
     "duration": 0.026235,
     "end_time": "2022-01-16T12:57:00.730834",
     "exception": false,
     "start_time": "2022-01-16T12:57:00.704599",
     "status": "completed"
    },
    "tags": []
   },
   "source": [
    "---\n",
    "\n",
    "\n",
    "\n",
    "\n",
    "*Have questions or comments? Visit the [course discussion forum](https://www.kaggle.com/learn/pandas/discussion) to chat with other learners.*"
   ]
  }
 ],
 "metadata": {
  "kernelspec": {
   "display_name": "Python 3",
   "language": "python",
   "name": "python3"
  },
  "language_info": {
   "codemirror_mode": {
    "name": "ipython",
    "version": 3
   },
   "file_extension": ".py",
   "mimetype": "text/x-python",
   "name": "python",
   "nbconvert_exporter": "python",
   "pygments_lexer": "ipython3",
   "version": "3.7.12"
  },
  "papermill": {
   "default_parameters": {},
   "duration": 24.935859,
   "end_time": "2022-01-16T12:57:01.469027",
   "environment_variables": {},
   "exception": null,
   "input_path": "__notebook__.ipynb",
   "output_path": "__notebook__.ipynb",
   "parameters": {},
   "start_time": "2022-01-16T12:56:36.533168",
   "version": "2.3.3"
  }
 },
 "nbformat": 4,
 "nbformat_minor": 5
}
